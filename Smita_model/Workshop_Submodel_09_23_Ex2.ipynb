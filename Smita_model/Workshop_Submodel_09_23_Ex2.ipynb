{
 "cells": [
  {
   "cell_type": "code",
   "execution_count": 2,
   "id": "8ece2812",
   "metadata": {},
   "outputs": [],
   "source": [
    "import pybamm"
   ]
  },
  {
   "cell_type": "code",
   "execution_count": 3,
   "id": "f5e2cfcd",
   "metadata": {},
   "outputs": [],
   "source": [
    "model = pybamm.lithium_ion.DFN(\n",
    "    options={\n",
    "        \"particle mechanics\": \"swelling only\",\n",
    "        \"thermal\": \"lumped\",\n",
    "    }\n",
    ")\n"
   ]
  },
  {
   "cell_type": "code",
   "execution_count": 4,
   "id": "20b9bffd",
   "metadata": {},
   "outputs": [
    {
     "data": {
      "text/plain": [
       "{'external circuit': <pybamm.models.submodels.external_circuit.explicit_control_external_circuit.ExplicitCurrentControl at 0x1c1ea242e80>,\n",
       " 'porosity': <pybamm.models.submodels.porosity.constant_porosity.Constant at 0x1c1ea2927c0>,\n",
       " 'negative interface utilisation': <pybamm.models.submodels.interface.interface_utilisation.full_utilisation.Full at 0x1c1ea2924c0>,\n",
       " 'positive interface utilisation': <pybamm.models.submodels.interface.interface_utilisation.full_utilisation.Full at 0x1c1ea2923a0>,\n",
       " 'negative particle mechanics': <pybamm.models.submodels.particle_mechanics.swelling_only.SwellingOnly at 0x1c1ea272220>,\n",
       " 'positive particle mechanics': <pybamm.models.submodels.particle_mechanics.swelling_only.SwellingOnly at 0x1c1ea254940>,\n",
       " 'negative active material': <pybamm.models.submodels.active_material.constant_active_material.Constant at 0x1c1ea2826a0>,\n",
       " 'positive active material': <pybamm.models.submodels.active_material.constant_active_material.Constant at 0x1c1ea282c10>,\n",
       " 'electrolyte transport efficiency': <pybamm.models.submodels.transport_efficiency.bruggeman_transport_efficiency.Bruggeman at 0x1c1ea292580>,\n",
       " 'electrode transport efficiency': <pybamm.models.submodels.transport_efficiency.bruggeman_transport_efficiency.Bruggeman at 0x1c1ea2718e0>,\n",
       " 'transverse convection': <pybamm.models.submodels.convection.transverse.no_convection.NoConvection at 0x1c1ea271dc0>,\n",
       " 'through-cell convection': <pybamm.models.submodels.convection.through_cell.no_convection.NoConvection at 0x1c1ea2a5c10>,\n",
       " 'negative interface': <pybamm.models.submodels.interface.kinetics.butler_volmer.SymmetricButlerVolmer at 0x1c1ea2a56d0>,\n",
       " 'positive interface': <pybamm.models.submodels.interface.kinetics.butler_volmer.SymmetricButlerVolmer at 0x1c1ea2a5370>,\n",
       " 'negative oxygen interface': <pybamm.models.submodels.interface.kinetics.no_reaction.NoReaction at 0x1c1ea292f70>,\n",
       " 'positive oxygen interface': <pybamm.models.submodels.interface.kinetics.no_reaction.NoReaction at 0x1c1ea29d7c0>,\n",
       " 'negative particle': <pybamm.models.submodels.particle.no_distribution.fickian_diffusion.FickianDiffusion at 0x1c1ea2a52e0>,\n",
       " 'positive particle': <pybamm.models.submodels.particle.no_distribution.fickian_diffusion.FickianDiffusion at 0x1c1ea2a5040>,\n",
       " 'negative electrode potential': <pybamm.models.submodels.electrode.ohm.full_ohm.Full at 0x1c1ea29dee0>,\n",
       " 'positive electrode potential': <pybamm.models.submodels.electrode.ohm.full_ohm.Full at 0x1c1ea2a5d60>,\n",
       " 'electrolyte diffusion': <pybamm.models.submodels.electrolyte_diffusion.full_diffusion.Full at 0x1c1ea2a5e20>,\n",
       " 'electrolyte conductivity': <pybamm.models.submodels.electrolyte_conductivity.full_conductivity.Full at 0x1c1ea2a5ee0>,\n",
       " 'negative surface potential difference': <pybamm.models.submodels.electrolyte_conductivity.surface_potential_form.explicit_surface_form_conductivity.Explicit at 0x1c1ea2a5fd0>,\n",
       " 'separator surface potential difference': <pybamm.models.submodels.electrolyte_conductivity.surface_potential_form.explicit_surface_form_conductivity.Explicit at 0x1c1ea2c70d0>,\n",
       " 'positive surface potential difference': <pybamm.models.submodels.electrolyte_conductivity.surface_potential_form.explicit_surface_form_conductivity.Explicit at 0x1c1ea2c7190>,\n",
       " 'thermal': <pybamm.models.submodels.thermal.lumped.Lumped at 0x1c1ea2a5fa0>,\n",
       " 'current collector': <pybamm.models.submodels.current_collector.homogeneous_current_collector.Uniform at 0x1c1ea2c72e0>,\n",
       " 'sei': <pybamm.models.submodels.interface.sei.no_sei.NoSEI at 0x1c1ea2c73a0>,\n",
       " 'lithium plating': <pybamm.models.submodels.interface.lithium_plating.no_plating.NoPlating at 0x1c1ea2c7460>}"
      ]
     },
     "execution_count": 4,
     "metadata": {},
     "output_type": "execute_result"
    }
   ],
   "source": [
    "model.submodels"
   ]
  },
  {
   "cell_type": "code",
   "execution_count": 5,
   "id": "dbde3674",
   "metadata": {},
   "outputs": [],
   "source": [
    "param = pybamm.ParameterValues(\"Ai2020\")\n"
   ]
  },
  {
   "cell_type": "code",
   "execution_count": 6,
   "id": "2eaee5c7",
   "metadata": {},
   "outputs": [],
   "source": [
    "experiment = pybamm.Experiment(\n",
    "    [\n",
    "        (\n",
    "            \"Discharge at 1C until 3.7V\",\n",
    "            \"Charge at 0.3C for 3600 seconds (3 minute period)\"\n",
    "        )\n",
    "    ]\n",
    "    * 1,\n",
    ")"
   ]
  },
  {
   "cell_type": "code",
   "execution_count": 7,
   "id": "e7a344e3",
   "metadata": {},
   "outputs": [],
   "source": [
    "sim = pybamm.Simulation(\n",
    "    model,\n",
    "    experiment=experiment,\n",
    "    parameter_values=param,\n",
    ")\n",
    "\n",
    "\n"
   ]
  },
  {
   "cell_type": "code",
   "execution_count": 8,
   "id": "b821d216",
   "metadata": {},
   "outputs": [],
   "source": [
    "solution = sim.solve(calc_esoh=False)"
   ]
  },
  {
   "cell_type": "code",
   "execution_count": 10,
   "id": "c0c97aaa",
   "metadata": {},
   "outputs": [
    {
     "data": {
      "application/vnd.jupyter.widget-view+json": {
       "model_id": "b05cd4be99a64045b369143cd3dcec76",
       "version_major": 2,
       "version_minor": 0
      },
      "text/plain": [
       "interactive(children=(FloatSlider(value=0.0, description='t', max=1.4410866781865748, step=0.01441086678186574…"
      ]
     },
     "metadata": {},
     "output_type": "display_data"
    },
    {
     "data": {
      "text/plain": [
       "<pybamm.plotting.quick_plot.QuickPlot at 0x1c1e4f77130>"
      ]
     },
     "execution_count": 10,
     "metadata": {},
     "output_type": "execute_result"
    }
   ],
   "source": [
    "sim.plot([\"Terminal voltage [V]\", \"Volume-averaged cell temperature [K]\", \"Cell thickness change [m]\"])"
   ]
  },
  {
   "cell_type": "code",
   "execution_count": null,
   "id": "f11a43cb",
   "metadata": {},
   "outputs": [],
   "source": []
  }
 ],
 "metadata": {
  "kernelspec": {
   "display_name": "Python 3 (ipykernel)",
   "language": "python",
   "name": "python3"
  },
  "language_info": {
   "codemirror_mode": {
    "name": "ipython",
    "version": 3
   },
   "file_extension": ".py",
   "mimetype": "text/x-python",
   "name": "python",
   "nbconvert_exporter": "python",
   "pygments_lexer": "ipython3",
   "version": "3.9.12"
  }
 },
 "nbformat": 4,
 "nbformat_minor": 5
}
