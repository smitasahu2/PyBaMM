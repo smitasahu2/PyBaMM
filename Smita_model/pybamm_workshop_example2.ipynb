{
 "cells": [
  {
   "cell_type": "markdown",
   "metadata": {
    "id": "tBb2wEolSiUJ"
   },
   "source": [
    "Changing parameters"
   ]
  },
  {
   "cell_type": "code",
   "execution_count": 1,
   "metadata": {},
   "outputs": [],
   "source": [
    "import pybamm"
   ]
  },
  {
   "cell_type": "code",
   "execution_count": 2,
   "metadata": {},
   "outputs": [
    {
     "data": {
      "application/vnd.jupyter.widget-view+json": {
       "model_id": "bc029936972f4264b7386608295e5756",
       "version_major": 2,
       "version_minor": 0
      },
      "text/plain": [
       "interactive(children=(FloatSlider(value=0.0, description='t', max=1.0, step=0.01), Output()), _dom_classes=('w…"
      ]
     },
     "metadata": {},
     "output_type": "display_data"
    },
    {
     "data": {
      "text/plain": [
       "<pybamm.plotting.quick_plot.QuickPlot at 0x7f8aacf94f40>"
      ]
     },
     "execution_count": 2,
     "metadata": {},
     "output_type": "execute_result"
    }
   ],
   "source": [
    "model = pybamm.lithium_ion.DFN()\n",
    "Ecker2015 = pybamm.ParameterValues(\"Ecker2015\")\n",
    "simulation = pybamm.Simulation(model, parameter_values=Ecker2015)\n",
    "simulation.solve([0, 3600])\n",
    "simulation.plot()"
   ]
  },
  {
   "cell_type": "code",
   "execution_count": 3,
   "metadata": {},
   "outputs": [],
   "source": [
    "model = pybamm.lithium_ion.DFN()\n",
    "Ecker2015 = pybamm.ParameterValues(\"Ecker2015\")"
   ]
  },
  {
   "cell_type": "code",
   "execution_count": 4,
   "metadata": {},
   "outputs": [
    {
     "data": {
      "text/plain": [
       "0.15652"
      ]
     },
     "execution_count": 4,
     "metadata": {},
     "output_type": "execute_result"
    }
   ],
   "source": [
    "Ecker2015[\"Current function [A]\"] "
   ]
  },
  {
   "cell_type": "code",
   "execution_count": 5,
   "metadata": {},
   "outputs": [],
   "source": [
    "import numpy as np\n",
    "test_1 = np.array([0.15652/2, 0.15652, 2*0.15652, 4*0.15625]);"
   ]
  },
  {
   "cell_type": "code",
   "execution_count": 6,
   "metadata": {},
   "outputs": [
    {
     "name": "stderr",
     "output_type": "stream",
     "text": [
      "At t = 332.229 and h = 2.03852e-13, the corrector convergence failed repeatedly or with |h| = hmin.\n",
      "At t = 332.229 and h = 5.69454e-14, the corrector convergence failed repeatedly or with |h| = hmin.\n",
      "At t = 148.593 and h = 3.53776e-14, the corrector convergence failed repeatedly or with |h| = hmin.\n",
      "At t = 56.7748 and h = 9.83878e-22, the corrector convergence failed repeatedly or with |h| = hmin.\n",
      "At t = 551.166 and h = 5.38931e-10, the corrector convergence failed repeatedly or with |h| = hmin.\n",
      "At t = 158.955 and h = 9.48799e-15, the corrector convergence failed repeatedly or with |h| = hmin.\n",
      "At t = 158.955 and h = 3.68191e-18, the corrector convergence failed repeatedly or with |h| = hmin.\n",
      "At t = 67.1368 and h = 1.70413e-18, the corrector convergence failed repeatedly or with |h| = hmin.\n",
      "At t = 435.425 and h = 5.80654e-17, the corrector convergence failed repeatedly or with |h| = hmin.\n",
      "At t = 68.1518 and h = 2.10571e-22, the corrector convergence failed repeatedly or with |h| = hmin.\n",
      "At t = 68.1518 and h = 5.62738e-15, the corrector convergence failed repeatedly or with |h| = hmin.\n",
      "At t = 68.1518 and h = 2.56157e-14, the corrector convergence failed repeatedly or with |h| = hmin.\n",
      "At t = 22.2427 and h = 8.80164e-21, the corrector convergence failed repeatedly or with |h| = hmin.\n",
      "At t = 22.2427 and h = 2.94921e-19, the corrector convergence failed repeatedly or with |h| = hmin.\n",
      "At t = 200.8 and h = 1.97817e-19, the corrector convergence failed repeatedly or with |h| = hmin.\n",
      "At t = 200.8 and h = 3.44761e-15, the corrector convergence failed repeatedly or with |h| = hmin.\n",
      "At t = 17.1632 and h = 4.44292e-17, the corrector convergence failed repeatedly or with |h| = hmin.\n",
      "At t = 17.1632 and h = 6.63488e-15, the corrector convergence failed repeatedly or with |h| = hmin.\n",
      "At t = 17.1632 and h = 1.40601e-19, the corrector convergence failed repeatedly or with |h| = hmin.\n",
      "At t = 17.1632 and h = 4.0129e-15, the corrector convergence failed repeatedly or with |h| = hmin.\n"
     ]
    },
    {
     "data": {
      "application/vnd.jupyter.widget-view+json": {
       "model_id": "13ee442acc4f4b37a0f3836e656b1eb5",
       "version_major": 2,
       "version_minor": 0
      },
      "text/plain": [
       "interactive(children=(FloatSlider(value=0.0, description='t', max=2.101187146917551, step=0.02101187146917551)…"
      ]
     },
     "metadata": {},
     "output_type": "display_data"
    },
    {
     "data": {
      "text/plain": [
       "<pybamm.plotting.quick_plot.QuickPlot at 0x7f8ab02b9df0>"
      ]
     },
     "execution_count": 6,
     "metadata": {},
     "output_type": "execute_result"
    }
   ],
   "source": [
    "sols =[]\n",
    "for i in test_1:\n",
    "    Ecker2015[\"Current function [A]\"] = i\n",
    "    sim = pybamm.Simulation(model, parameter_values=Ecker2015)\n",
    "    sol = sim.solve([0, 72000])\n",
    "    sols.append(sol)\n",
    "    output_variables2 = [\"Terminal voltage [V]\"]\n",
    "pybamm.dynamic_plot(sols, labels=[\"DFN C/2 c-rate\", \"DFN 1C c-rate\",\"DFN 2C c-rate\", \"DFN 4C c-rate\"])"
   ]
  },
  {
   "cell_type": "code",
   "execution_count": null,
   "metadata": {},
   "outputs": [],
   "source": []
  }
 ],
 "metadata": {
  "colab": {
   "provenance": []
  },
  "kernelspec": {
   "display_name": "Python 3 (ipykernel)",
   "language": "python",
   "name": "python3"
  },
  "language_info": {
   "codemirror_mode": {
    "name": "ipython",
    "version": 3
   },
   "file_extension": ".py",
   "mimetype": "text/x-python",
   "name": "python",
   "nbconvert_exporter": "python",
   "pygments_lexer": "ipython3",
   "version": "3.9.12"
  },
  "toc": {
   "base_numbering": 1,
   "nav_menu": {},
   "number_sections": true,
   "sideBar": true,
   "skip_h1_title": false,
   "title_cell": "Table of Contents",
   "title_sidebar": "Contents",
   "toc_cell": false,
   "toc_position": {},
   "toc_section_display": true,
   "toc_window_display": true
  },
  "vscode": {
   "interpreter": {
    "hash": "187972e187ab8dfbecfab9e8e194ae6d08262b2d51a54fa40644e3ddb6b5f74c"
   }
  }
 },
 "nbformat": 4,
 "nbformat_minor": 1
}
