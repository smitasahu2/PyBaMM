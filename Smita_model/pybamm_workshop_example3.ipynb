{
 "cells": [
  {
   "cell_type": "markdown",
   "metadata": {
    "id": "tBb2wEolSiUJ"
   },
   "source": [
    "Changing current for different models"
   ]
  },
  {
   "cell_type": "code",
   "execution_count": 10,
   "metadata": {},
   "outputs": [],
   "source": [
    "import pybamm"
   ]
  },
  {
   "cell_type": "code",
   "execution_count": 11,
   "metadata": {},
   "outputs": [],
   "source": [
    "import numpy as np\n",
    "test_1 = np.array([0.15652/2, 0.15652, 2*0.15652, 4*0.15625]);"
   ]
  },
  {
   "cell_type": "code",
   "execution_count": 12,
   "metadata": {},
   "outputs": [],
   "source": [
    "models = [\n",
    "    pybamm.lithium_ion.SPM(),\n",
    "    pybamm.lithium_ion.SPMe(),\n",
    "    pybamm.lithium_ion.DFN(),\n",
    "]"
   ]
  },
  {
   "cell_type": "code",
   "execution_count": 13,
   "metadata": {},
   "outputs": [],
   "source": [
    "Ecker2015 = pybamm.ParameterValues(\"Ecker2015\")"
   ]
  },
  {
   "cell_type": "code",
   "execution_count": 14,
   "metadata": {},
   "outputs": [
    {
     "data": {
      "text/plain": [
       "0.15652"
      ]
     },
     "execution_count": 14,
     "metadata": {},
     "output_type": "execute_result"
    }
   ],
   "source": [
    "Ecker2015[\"Current function [A]\"] "
   ]
  },
  {
   "cell_type": "code",
   "execution_count": 15,
   "metadata": {},
   "outputs": [
    {
     "name": "stderr",
     "output_type": "stream",
     "text": [
      "At t = 332.229 and h = 8.45886e-15, the corrector convergence failed repeatedly or with |h| = hmin.\n",
      "At t = 332.229 and h = 6.91516e-14, the corrector convergence failed repeatedly or with |h| = hmin.\n",
      "At t = 148.593 and h = 2.47816e-13, the corrector convergence failed repeatedly or with |h| = hmin.\n",
      "At t = 56.7748 and h = 1.74958e-15, the corrector convergence failed repeatedly or with |h| = hmin.\n"
     ]
    },
    {
     "ename": "SolverError",
     "evalue": "Error in Function::call for 'F' [IdasInterface] at .../casadi/core/function.cpp:1401:\nError in Function::call for 'F' [IdasInterface] at .../casadi/core/function.cpp:330:\n.../casadi/interfaces/sundials/idas_interface.cpp:596: IDASolve returned \"IDA_CONV_FAIL\". Consult IDAS documentation.",
     "output_type": "error",
     "traceback": [
      "\u001b[0;31m---------------------------------------------------------------------------\u001b[0m",
      "\u001b[0;31mRuntimeError\u001b[0m                              Traceback (most recent call last)",
      "\u001b[0;32m~/.pyenv/versions/3.9.15/lib/python3.9/site-packages/pybamm/solvers/casadi_solver.py\u001b[0m in \u001b[0;36m?\u001b[0;34m(self, model, y0, inputs_dict, inputs, t_eval, use_grid, extract_sensitivities_in_solution)\u001b[0m\n\u001b[1;32m    685\u001b[0m                 \u001b[0;31m# If it doesn't work raise error\u001b[0m\u001b[0;34m\u001b[0m\u001b[0;34m\u001b[0m\u001b[0m\n\u001b[1;32m    686\u001b[0m                 \u001b[0mpybamm\u001b[0m\u001b[0;34m.\u001b[0m\u001b[0mlogger\u001b[0m\u001b[0;34m.\u001b[0m\u001b[0mdebug\u001b[0m\u001b[0;34m(\u001b[0m\u001b[0;34mf\"Casadi integrator failed with error {error}\"\u001b[0m\u001b[0;34m)\u001b[0m\u001b[0;34m\u001b[0m\u001b[0;34m\u001b[0m\u001b[0m\n\u001b[0;32m--> 687\u001b[0;31m                 \u001b[0;32mraise\u001b[0m \u001b[0mpybamm\u001b[0m\u001b[0;34m.\u001b[0m\u001b[0mSolverError\u001b[0m\u001b[0;34m(\u001b[0m\u001b[0merror\u001b[0m\u001b[0;34m.\u001b[0m\u001b[0margs\u001b[0m\u001b[0;34m[\u001b[0m\u001b[0;36m0\u001b[0m\u001b[0;34m]\u001b[0m\u001b[0;34m)\u001b[0m\u001b[0;34m\u001b[0m\u001b[0;34m\u001b[0m\u001b[0m\n\u001b[0m\u001b[1;32m    688\u001b[0m             \u001b[0mpybamm\u001b[0m\u001b[0;34m.\u001b[0m\u001b[0mlogger\u001b[0m\u001b[0;34m.\u001b[0m\u001b[0mdebug\u001b[0m\u001b[0;34m(\u001b[0m\u001b[0;34m\"Finished casadi integrator\"\u001b[0m\u001b[0;34m)\u001b[0m\u001b[0;34m\u001b[0m\u001b[0;34m\u001b[0m\u001b[0m\n",
      "\u001b[0;32m~/.pyenv/versions/3.9.15/lib/python3.9/site-packages/casadi/casadi.py\u001b[0m in \u001b[0;36m?\u001b[0;34m(self, *args, **kwargs)\u001b[0m\n\u001b[1;32m  23370\u001b[0m       \u001b[0;32melse\u001b[0m\u001b[0;34m:\u001b[0m\u001b[0;34m\u001b[0m\u001b[0;34m\u001b[0m\u001b[0m\n\u001b[1;32m  23371\u001b[0m     \u001b[0;31m# Named inputs -> return dictionary\u001b[0m\u001b[0;34m\u001b[0m\u001b[0;34m\u001b[0m\u001b[0m\n\u001b[0;32m> 23372\u001b[0;31m         \u001b[0;32mreturn\u001b[0m \u001b[0mself\u001b[0m\u001b[0;34m.\u001b[0m\u001b[0mcall\u001b[0m\u001b[0;34m(\u001b[0m\u001b[0mkwargs\u001b[0m\u001b[0;34m)\u001b[0m\u001b[0;34m\u001b[0m\u001b[0;34m\u001b[0m\u001b[0m\n\u001b[0m",
      "\u001b[0;32m~/.pyenv/versions/3.9.15/lib/python3.9/site-packages/casadi/casadi.py\u001b[0m in \u001b[0;36m?\u001b[0;34m(self, *args)\u001b[0m\n\u001b[1;32m  20019\u001b[0m \u001b[0;34m\u001b[0m\u001b[0m\n\u001b[1;32m  20020\u001b[0m         \"\"\"\n\u001b[0;32m> 20021\u001b[0;31m         \u001b[0;32mreturn\u001b[0m \u001b[0m_casadi\u001b[0m\u001b[0;34m.\u001b[0m\u001b[0mFunction_call\u001b[0m\u001b[0;34m(\u001b[0m\u001b[0mself\u001b[0m\u001b[0;34m,\u001b[0m \u001b[0;34m*\u001b[0m\u001b[0margs\u001b[0m\u001b[0;34m)\u001b[0m\u001b[0;34m\u001b[0m\u001b[0;34m\u001b[0m\u001b[0m\n\u001b[0m",
      "\u001b[0;31mRuntimeError\u001b[0m: Error in Function::call for 'F' [IdasInterface] at .../casadi/core/function.cpp:1401:\nError in Function::call for 'F' [IdasInterface] at .../casadi/core/function.cpp:330:\n.../casadi/interfaces/sundials/idas_interface.cpp:596: IDASolve returned \"IDA_CONV_FAIL\". Consult IDAS documentation.",
      "\nDuring handling of the above exception, another exception occurred:\n",
      "\u001b[0;31mSolverError\u001b[0m                               Traceback (most recent call last)",
      "Cell \u001b[0;32mIn[15], line 8\u001b[0m\n\u001b[1;32m      6\u001b[0m Ecker2015[\u001b[39m\"\u001b[39m\u001b[39mCurrent function [A]\u001b[39m\u001b[39m\"\u001b[39m] \u001b[39m=\u001b[39m i\n\u001b[1;32m      7\u001b[0m sim \u001b[39m=\u001b[39m pybamm\u001b[39m.\u001b[39mSimulation(model, parameter_values\u001b[39m=\u001b[39mEcker2015)\n\u001b[0;32m----> 8\u001b[0m sol2 \u001b[39m=\u001b[39m sim\u001b[39m.\u001b[39;49msolve([\u001b[39m0\u001b[39;49m, \u001b[39m72000\u001b[39;49m])\n\u001b[1;32m      9\u001b[0m sols2\u001b[39m.\u001b[39mappend(sol2)\n\u001b[1;32m     10\u001b[0m \u001b[39m# output_variables1 = [\"Current function [A]\"]\u001b[39;00m\n\u001b[1;32m     11\u001b[0m \u001b[39m# output_variables2 = [\"Terminal voltage [V]\"]\u001b[39;00m\n",
      "File \u001b[0;32m~/.pyenv/versions/3.9.15/lib/python3.9/site-packages/pybamm/simulation.py:596\u001b[0m, in \u001b[0;36mSimulation.solve\u001b[0;34m(self, t_eval, solver, check_model, save_at_cycles, calc_esoh, starting_solution, initial_soc, callbacks, showprogress, **kwargs)\u001b[0m\n\u001b[1;32m    581\u001b[0m             \u001b[39mif\u001b[39;00m dt_eval_max \u001b[39m>\u001b[39m dt_data_min \u001b[39m+\u001b[39m sys\u001b[39m.\u001b[39mfloat_info\u001b[39m.\u001b[39mepsilon:\n\u001b[1;32m    582\u001b[0m                 warnings\u001b[39m.\u001b[39mwarn(\n\u001b[1;32m    583\u001b[0m \u001b[39m                    \u001b[39m\u001b[39m\"\"\"\u001b[39;00m\n\u001b[1;32m    584\u001b[0m \u001b[39m                    The largest timestep in t_eval ({}) is larger than\u001b[39;00m\n\u001b[0;32m   (...)\u001b[0m\n\u001b[1;32m    593\u001b[0m                     pybamm\u001b[39m.\u001b[39mSolverWarning,\n\u001b[1;32m    594\u001b[0m                 )\n\u001b[0;32m--> 596\u001b[0m     \u001b[39mself\u001b[39m\u001b[39m.\u001b[39m_solution \u001b[39m=\u001b[39m solver\u001b[39m.\u001b[39;49msolve(\u001b[39mself\u001b[39;49m\u001b[39m.\u001b[39;49mbuilt_model, t_eval, \u001b[39m*\u001b[39;49m\u001b[39m*\u001b[39;49mkwargs)\n\u001b[1;32m    598\u001b[0m \u001b[39melif\u001b[39;00m \u001b[39mself\u001b[39m\u001b[39m.\u001b[39moperating_mode \u001b[39m==\u001b[39m \u001b[39m\"\u001b[39m\u001b[39mwith experiment\u001b[39m\u001b[39m\"\u001b[39m:\n\u001b[1;32m    599\u001b[0m     callbacks\u001b[39m.\u001b[39mon_experiment_start(logs)\n",
      "File \u001b[0;32m~/.pyenv/versions/3.9.15/lib/python3.9/site-packages/pybamm/solvers/base_solver.py:856\u001b[0m, in \u001b[0;36mBaseSolver.solve\u001b[0;34m(self, model, t_eval, inputs, initial_conditions, nproc, calculate_sensitivities)\u001b[0m\n\u001b[1;32m    854\u001b[0m ninputs \u001b[39m=\u001b[39m \u001b[39mlen\u001b[39m(model_inputs_list)\n\u001b[1;32m    855\u001b[0m \u001b[39mif\u001b[39;00m ninputs \u001b[39m==\u001b[39m \u001b[39m1\u001b[39m:\n\u001b[0;32m--> 856\u001b[0m     new_solution \u001b[39m=\u001b[39m \u001b[39mself\u001b[39;49m\u001b[39m.\u001b[39;49m_integrate(\n\u001b[1;32m    857\u001b[0m         model,\n\u001b[1;32m    858\u001b[0m         t_eval[start_index:end_index],\n\u001b[1;32m    859\u001b[0m         model_inputs_list[\u001b[39m0\u001b[39;49m],\n\u001b[1;32m    860\u001b[0m     )\n\u001b[1;32m    861\u001b[0m     new_solutions \u001b[39m=\u001b[39m [new_solution]\n\u001b[1;32m    862\u001b[0m \u001b[39melse\u001b[39;00m:\n",
      "File \u001b[0;32m~/.pyenv/versions/3.9.15/lib/python3.9/site-packages/pybamm/solvers/casadi_solver.py:295\u001b[0m, in \u001b[0;36mCasadiSolver._integrate\u001b[0;34m(self, model, t_eval, inputs_dict)\u001b[0m\n\u001b[1;32m    292\u001b[0m     \u001b[39mbreak\u001b[39;00m\n\u001b[1;32m    293\u001b[0m \u001b[39m# Check if the sign of an event changes, if so find an accurate\u001b[39;00m\n\u001b[1;32m    294\u001b[0m \u001b[39m# termination point and exit\u001b[39;00m\n\u001b[0;32m--> 295\u001b[0m current_step_sol \u001b[39m=\u001b[39m \u001b[39mself\u001b[39;49m\u001b[39m.\u001b[39;49m_solve_for_event(current_step_sol)\n\u001b[1;32m    296\u001b[0m \u001b[39m# assign temporary solve time\u001b[39;00m\n\u001b[1;32m    297\u001b[0m current_step_sol\u001b[39m.\u001b[39msolve_time \u001b[39m=\u001b[39m np\u001b[39m.\u001b[39mnan\n",
      "File \u001b[0;32m~/.pyenv/versions/3.9.15/lib/python3.9/site-packages/pybamm/solvers/casadi_solver.py:450\u001b[0m, in \u001b[0;36mCasadiSolver._solve_for_event\u001b[0;34m(self, coarse_solution)\u001b[0m\n\u001b[1;32m    447\u001b[0m     use_grid \u001b[39m=\u001b[39m \u001b[39mTrue\u001b[39;00m\n\u001b[1;32m    449\u001b[0m y0 \u001b[39m=\u001b[39m coarse_solution\u001b[39m.\u001b[39my[:, event_idx_lower]\n\u001b[0;32m--> 450\u001b[0m dense_step_sol \u001b[39m=\u001b[39m \u001b[39mself\u001b[39;49m\u001b[39m.\u001b[39;49m_run_integrator(\n\u001b[1;32m    451\u001b[0m     model,\n\u001b[1;32m    452\u001b[0m     y0,\n\u001b[1;32m    453\u001b[0m     inputs_dict,\n\u001b[1;32m    454\u001b[0m     inputs,\n\u001b[1;32m    455\u001b[0m     t_window_event_dense,\n\u001b[1;32m    456\u001b[0m     use_grid\u001b[39m=\u001b[39;49muse_grid,\n\u001b[1;32m    457\u001b[0m     extract_sensitivities_in_solution\u001b[39m=\u001b[39;49m\u001b[39mFalse\u001b[39;49;00m,\n\u001b[1;32m    458\u001b[0m )\n\u001b[1;32m    460\u001b[0m \u001b[39m# Find the exact time at which the event was triggered\u001b[39;00m\n\u001b[1;32m    461\u001b[0m t_event, y_event, closest_event_idx \u001b[39m=\u001b[39m find_t_event(dense_step_sol, \u001b[39m\"\u001b[39m\u001b[39mexact\u001b[39m\u001b[39m\"\u001b[39m)\n",
      "File \u001b[0;32m~/.pyenv/versions/3.9.15/lib/python3.9/site-packages/pybamm/solvers/casadi_solver.py:687\u001b[0m, in \u001b[0;36mCasadiSolver._run_integrator\u001b[0;34m(self, model, y0, inputs_dict, inputs, t_eval, use_grid, extract_sensitivities_in_solution)\u001b[0m\n\u001b[1;32m    684\u001b[0m \u001b[39mexcept\u001b[39;00m \u001b[39mRuntimeError\u001b[39;00m \u001b[39mas\u001b[39;00m error:\n\u001b[1;32m    685\u001b[0m     \u001b[39m# If it doesn't work raise error\u001b[39;00m\n\u001b[1;32m    686\u001b[0m     pybamm\u001b[39m.\u001b[39mlogger\u001b[39m.\u001b[39mdebug(\u001b[39mf\u001b[39m\u001b[39m\"\u001b[39m\u001b[39mCasadi integrator failed with error \u001b[39m\u001b[39m{\u001b[39;00merror\u001b[39m}\u001b[39;00m\u001b[39m\"\u001b[39m)\n\u001b[0;32m--> 687\u001b[0m     \u001b[39mraise\u001b[39;00m pybamm\u001b[39m.\u001b[39mSolverError(error\u001b[39m.\u001b[39margs[\u001b[39m0\u001b[39m])\n\u001b[1;32m    688\u001b[0m pybamm\u001b[39m.\u001b[39mlogger\u001b[39m.\u001b[39mdebug(\u001b[39m\"\u001b[39m\u001b[39mFinished casadi integrator\u001b[39m\u001b[39m\"\u001b[39m)\n\u001b[1;32m    689\u001b[0m integration_time \u001b[39m=\u001b[39m timer\u001b[39m.\u001b[39mtime()\n",
      "\u001b[0;31mSolverError\u001b[0m: Error in Function::call for 'F' [IdasInterface] at .../casadi/core/function.cpp:1401:\nError in Function::call for 'F' [IdasInterface] at .../casadi/core/function.cpp:330:\n.../casadi/interfaces/sundials/idas_interface.cpp:596: IDASolve returned \"IDA_CONV_FAIL\". Consult IDAS documentation."
     ]
    }
   ],
   "source": [
    "sols2 =[]\n",
    "test_1 = np.array([0.15652/2, 0.15652, 2*0.15652]);\n",
    "\n",
    "for i in test_1:\n",
    "    for model in models:\n",
    "        Ecker2015[\"Current function [A]\"] = i\n",
    "        sim = pybamm.Simulation(model, parameter_values=Ecker2015)\n",
    "        sol2 = sim.solve([0, 72000])\n",
    "        sols2.append(sol2)\n",
    "        # output_variables1 = [\"Current function [A]\"]\n",
    "        # output_variables2 = [\"Terminal voltage [V]\"]\n",
    "pybamm.dynamic_plot(sols2)"
   ]
  },
  {
   "cell_type": "code",
   "execution_count": null,
   "metadata": {},
   "outputs": [],
   "source": []
  }
 ],
 "metadata": {
  "colab": {
   "provenance": []
  },
  "kernelspec": {
   "display_name": "Python 3 (ipykernel)",
   "language": "python",
   "name": "python3"
  },
  "language_info": {
   "codemirror_mode": {
    "name": "ipython",
    "version": 3
   },
   "file_extension": ".py",
   "mimetype": "text/x-python",
   "name": "python",
   "nbconvert_exporter": "python",
   "pygments_lexer": "ipython3",
   "version": "3.9.15"
  },
  "toc": {
   "base_numbering": 1,
   "nav_menu": {},
   "number_sections": true,
   "sideBar": true,
   "skip_h1_title": false,
   "title_cell": "Table of Contents",
   "title_sidebar": "Contents",
   "toc_cell": false,
   "toc_position": {},
   "toc_section_display": true,
   "toc_window_display": true
  },
  "vscode": {
   "interpreter": {
    "hash": "187972e187ab8dfbecfab9e8e194ae6d08262b2d51a54fa40644e3ddb6b5f74c"
   }
  }
 },
 "nbformat": 4,
 "nbformat_minor": 1
}
